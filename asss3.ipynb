{
 "cells": [
  {
   "cell_type": "markdown",
   "metadata": {},
   "source": [
    "# Question 1"
   ]
  },
  {
   "cell_type": "code",
   "execution_count": 15,
   "metadata": {},
   "outputs": [
    {
     "name": "stdout",
     "output_type": "stream",
     "text": [
      "\n",
      "Enter 1st number: 2\n",
      "Enter 2nd number: 3\n",
      "\n",
      "\n",
      "\n",
      "Addition:\t\t2.0 + 3.0 = 5.0\n",
      "Subtraction:\t\t2.0 - 3.0 = -1.0\n",
      "Multipilication:\t2.0 x 3.0 = 6.0\n",
      "Division:\t\t2.0 / 3.0 = 0.6666666666666666\n",
      "Power:\t\t\t2.0 ^ 3.0 = 8.0\n"
     ]
    }
   ],
   "source": [
    "num1 =  float(input(\"\\nEnter 1st number: \"))\n",
    "num2 =  float(input(\"Enter 2nd number: \"))\n",
    "\n",
    "print(\"\\n\\n\\nAddition:\\t\\t\"+str(num1)+\" + \"+str(num2)+\" = \" +str(num1 + num2))\n",
    "print(\"Subtraction:\\t\\t\"+str(num1)+\" - \"+str(num2)+\" = \" +str(num1 - num2))\n",
    "print(\"Multipilication:\\t\"+str(num1)+\" x \"+str(num2)+\" = \" +str(num1 * num2))\n",
    "print(\"Division:\\t\\t\"+str(num1)+\" / \"+str(num2)+\" = \" +str(num1 / num2))\n",
    "print(\"Power:\\t\\t\\t\"+str(num1)+\" ^ \"+str(num2)+\" = \" +str(num1 ** num2))\n",
    "\n",
    "\n",
    "\n"
   ]
  },
  {
   "cell_type": "markdown",
   "metadata": {},
   "source": [
    "# Question 2\n"
   ]
  },
  {
   "cell_type": "code",
   "execution_count": 18,
   "metadata": {},
   "outputs": [
    {
     "name": "stdout",
     "output_type": "stream",
     "text": [
      "4\n",
      "7\n",
      "4\n",
      "2\n",
      "42\n"
     ]
    }
   ],
   "source": [
    "lst = [\"bhindi\",\"4\",\"alu\", \"piyaz\",\"7\", \"timatar\",\"4\",\"2\",\"matar\",\"42\"]\n",
    "\n",
    "for x in lst:\n",
    "    if x.isnumeric() == True:\n",
    "        print(x)"
   ]
  },
  {
   "cell_type": "markdown",
   "metadata": {},
   "source": [
    "# Question 3"
   ]
  },
  {
   "cell_type": "code",
   "execution_count": 26,
   "metadata": {},
   "outputs": [
    {
     "name": "stdout",
     "output_type": "stream",
     "text": [
      "{'bhindi': 0, 'alu': 1, 'piyaz': 2}\n",
      "{'bhindi': 0, 'alu': 1, 'piyaz': 2, 'timatar': 3}\n"
     ]
    }
   ],
   "source": [
    "dict = {\"bhindi\":0, \"alu\":1, \"piyaz\":2}\n",
    "print(dict)\n",
    "dict.update({\"timatar\":3})\n",
    "print(dict)"
   ]
  },
  {
   "cell_type": "markdown",
   "metadata": {},
   "source": [
    "# Question 4"
   ]
  },
  {
   "cell_type": "code",
   "execution_count": 29,
   "metadata": {},
   "outputs": [
    {
     "name": "stdout",
     "output_type": "stream",
     "text": [
      "650\n"
     ]
    }
   ],
   "source": [
    "dict = {'bhindi': 100, 'alu': 50, 'piyaz': 200, 'timatar': 300}\n",
    "print(sum(dict.values()))"
   ]
  },
  {
   "cell_type": "markdown",
   "metadata": {},
   "source": [
    "# Question 5"
   ]
  },
  {
   "cell_type": "code",
   "execution_count": 51,
   "metadata": {},
   "outputs": [
    {
     "name": "stdout",
     "output_type": "stream",
     "text": [
      "\n",
      "Duplicates:\n",
      "bhindi\n",
      "timatar\n",
      "4\n",
      "\n",
      "\n",
      "Unique list: \n",
      "['bhindi', 'timatar', '4', 'alu', 'piyaz', '7', '2', 'matar', '42']\n"
     ]
    }
   ],
   "source": [
    "lst = [\"bhindi\",\"timatar\",\"4\",\"alu\", \"piyaz\",\"7\",\"bhindi\", \"timatar\",\"4\",\"2\",\"matar\",\"42\"]\n",
    "uniq_list = []\n",
    "print(\"\\nDuplicates:\")\n",
    "for i in  lst:\n",
    "    if i not in uniq_list:\n",
    "        uniq_list.append(i)\n",
    "    else:\n",
    "        \n",
    "        print(i)\n",
    "print(\"\\n\\nUnique list: \\n\" + str(uniq_list))"
   ]
  },
  {
   "cell_type": "markdown",
   "metadata": {},
   "source": [
    "# Question 6"
   ]
  },
  {
   "cell_type": "code",
   "execution_count": 57,
   "metadata": {},
   "outputs": [
    {
     "name": "stdout",
     "output_type": "stream",
     "text": [
      "\n",
      "\n",
      "Enter key to check:piyaz\n",
      "\n",
      "\n",
      "\n",
      "Key is present and value is =  200\n"
     ]
    }
   ],
   "source": [
    "dict = {'bhindi': 100, 'alu': 50, 'piyaz': 200, 'timatar': 300}\n",
    "print(\"\\n\")\n",
    "key = input(\"Enter key to check:\")\n",
    "print(\"\\n\\n\")\n",
    "if key in dict: \n",
    "    print(\"Key is present and value is = \", dict[key]) \n",
    "else: \n",
    "    print(\"Not present\") "
   ]
  },
  {
   "cell_type": "code",
   "execution_count": null,
   "metadata": {},
   "outputs": [],
   "source": []
  }
 ],
 "metadata": {
  "kernelspec": {
   "display_name": "Python 3",
   "language": "python",
   "name": "python3"
  },
  "language_info": {
   "codemirror_mode": {
    "name": "ipython",
    "version": 3
   },
   "file_extension": ".py",
   "mimetype": "text/x-python",
   "name": "python",
   "nbconvert_exporter": "python",
   "pygments_lexer": "ipython3",
   "version": "3.7.3"
  }
 },
 "nbformat": 4,
 "nbformat_minor": 2
}
