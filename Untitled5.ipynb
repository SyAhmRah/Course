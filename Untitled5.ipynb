{
 "cells": [
  {
   "cell_type": "markdown",
   "metadata": {},
   "source": [
    "### Question 1"
   ]
  },
  {
   "cell_type": "code",
   "execution_count": 8,
   "metadata": {},
   "outputs": [
    {
     "name": "stdout",
     "output_type": "stream",
     "text": [
      "\tTwinkle, twinkle, little star,\n",
      "\t\tHow I wonder what you are!\n",
      "\t\t\tUp above the world so high,\n",
      "\t\t\tLike a diamond in the sky.\n",
      "\tTwinkle, twinkle, little star,\n",
      "\t\tHow I wonder what you are\n"
     ]
    }
   ],
   "source": [
    "print ('''\\tTwinkle, twinkle, little star,\n",
    "\\t\\tHow I wonder what you are!\n",
    "\\t\\t\\tUp above the world so high,\n",
    "\\t\\t\\tLike a diamond in the sky.\n",
    "\\tTwinkle, twinkle, little star,\n",
    "\\t\\tHow I wonder what you are''')"
   ]
  },
  {
   "cell_type": "markdown",
   "metadata": {},
   "source": [
    "### Question 2"
   ]
  },
  {
   "cell_type": "code",
   "execution_count": 2,
   "metadata": {},
   "outputs": [
    {
     "data": {
      "text/plain": [
       "'3.7.3'"
      ]
     },
     "execution_count": 2,
     "metadata": {},
     "output_type": "execute_result"
    }
   ],
   "source": [
    "from platform import python_version\n",
    "python_version()"
   ]
  },
  {
   "cell_type": "markdown",
   "metadata": {},
   "source": [
    "### Question 3"
   ]
  },
  {
   "cell_type": "code",
   "execution_count": 3,
   "metadata": {},
   "outputs": [
    {
     "name": "stdout",
     "output_type": "stream",
     "text": [
      "YYYY-MM-DD HH-MM-SS.MiliSec\n",
      "2019-11-05 10:36:44.516678\n"
     ]
    }
   ],
   "source": [
    "from datetime import datetime\n",
    "print(\"YYYY-MM-DD HH-MM-SS.MiliSec\")\n",
    "print(datetime.now())\n"
   ]
  },
  {
   "cell_type": "markdown",
   "metadata": {},
   "source": [
    "### Question 4"
   ]
  },
  {
   "cell_type": "code",
   "execution_count": 4,
   "metadata": {},
   "outputs": [
    {
     "name": "stdout",
     "output_type": "stream",
     "text": [
      "Input radius:1.08\n",
      "The area of the 1.08 radius circle is:3.6648288\n"
     ]
    }
   ],
   "source": [
    "radius = float(input(\"Input radius:\"))\n",
    "float(radius)\n",
    "area = radius * 3.142 * radius \n",
    "print(\"The area of the \" + str(radius)+ \" radius circle is:\"+ str(area) )"
   ]
  },
  {
   "cell_type": "markdown",
   "metadata": {},
   "source": [
    "### Question 5"
   ]
  },
  {
   "cell_type": "code",
   "execution_count": 5,
   "metadata": {},
   "outputs": [
    {
     "name": "stdout",
     "output_type": "stream",
     "text": [
      "Enter your First name: Ali Mughal\n",
      "Enter your Last name: Ali\n",
      "lahguM ilA ilA\n"
     ]
    }
   ],
   "source": [
    "Fname = input(\"Enter your First name: \")\n",
    "Lname = input(\"Enter your Last name: \")\n",
    "str(Lname)\n",
    "str(Fname)\n",
    "\n",
    "print(Fname[::-1] +\" \"+ Lname[::-1])"
   ]
  },
  {
   "cell_type": "markdown",
   "metadata": {},
   "source": [
    "### Question 6"
   ]
  },
  {
   "cell_type": "code",
   "execution_count": 7,
   "metadata": {},
   "outputs": [
    {
     "name": "stdout",
     "output_type": "stream",
     "text": [
      "First input:23\n",
      "Second input:3\n",
      "26.0\n"
     ]
    }
   ],
   "source": [
    "ip1 = float(input(\"First input:\"))\n",
    "ip2 = float(input(\"Second input:\"))\n",
    "\n",
    "print(ip1 + ip2)"
   ]
  },
  {
   "cell_type": "code",
   "execution_count": null,
   "metadata": {},
   "outputs": [],
   "source": []
  },
  {
   "cell_type": "code",
   "execution_count": null,
   "metadata": {},
   "outputs": [],
   "source": []
  }
 ],
 "metadata": {
  "kernelspec": {
   "display_name": "Python 3",
   "language": "python",
   "name": "python3"
  },
  "language_info": {
   "codemirror_mode": {
    "name": "ipython",
    "version": 3
   },
   "file_extension": ".py",
   "mimetype": "text/x-python",
   "name": "python",
   "nbconvert_exporter": "python",
   "pygments_lexer": "ipython3",
   "version": "3.7.3"
  }
 },
 "nbformat": 4,
 "nbformat_minor": 2
}
