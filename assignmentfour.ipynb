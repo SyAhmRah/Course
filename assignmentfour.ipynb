{
 "cells": [
  {
   "cell_type": "markdown",
   "metadata": {},
   "source": [
    "# Question 1"
   ]
  },
  {
   "cell_type": "markdown",
   "metadata": {},
   "source": [
    "Use a dictionary to store information about a person you know. Store their first name, last name, age,\n",
    "and the city in which they live. You should have keys such as first_name, last_name, age, and city. Print\n",
    "each piece of information stored in your dictionary. Add a new key value pair about qualification then\n",
    "update the qualification value to high academic level then delete it."
   ]
  },
  {
   "cell_type": "code",
   "execution_count": 1,
   "metadata": {},
   "outputs": [
    {
     "name": "stdout",
     "output_type": "stream",
     "text": [
      "\n",
      "\n",
      "\n",
      "Abid\n",
      "Shaka\n",
      "43\n",
      "Karachi\n",
      "\n",
      "\n",
      "\n",
      "{'first_name': 'Abid', 'last_name': 'Shaka', 'age': 43, 'city': 'Karachi', 'qualification': 'Ph.D'}\n"
     ]
    },
    {
     "data": {
      "text/plain": [
       "{'first_name': 'Abid', 'last_name': 'Shaka', 'age': 43, 'city': 'Karachi'}"
      ]
     },
     "execution_count": 1,
     "metadata": {},
     "output_type": "execute_result"
    }
   ],
   "source": [
    "dict = { 'first_name': 'Abid', 'last_name': 'Shaka', 'age': 43, 'city': 'Karachi' }\n",
    "print('\\n\\n')\n",
    "\n",
    "print(dict['first_name'])\n",
    "print(dict['last_name'])\n",
    "print(dict['age'])\n",
    "print(dict['city'])\n",
    "print('\\n\\n')\n",
    "\n",
    "dict['qualification'] = 'Ph.D'\n",
    "print(dict)\n",
    "\n",
    "dict.pop(\"qualification\" )\n",
    "dict"
   ]
  },
  {
   "cell_type": "markdown",
   "metadata": {},
   "source": [
    "# Question 2"
   ]
  },
  {
   "cell_type": "markdown",
   "metadata": {},
   "source": [
    "Make a dictionary called cities. Use the names of three cities as keys in your dictionary. Create a\n",
    "dictionary of information about each city and include the country that the city is in, its approximate\n",
    "population, and one fact about that city. The keys for each city’s dictionary should be something like\n",
    "country, population, and fact. Print the name of each city and all of the information you have stored\n",
    "about it."
   ]
  },
  {
   "cell_type": "code",
   "execution_count": 2,
   "metadata": {},
   "outputs": [
    {
     "name": "stdout",
     "output_type": "stream",
     "text": [
      "\n",
      "Karachi is in Pakistan.\n",
      "It has a population of 14900000.\n",
      "It is famous for being the business hub of Pakistan.\n",
      "\n",
      "Kingston is in Jamaica.\n",
      "It has a population of 666041.\n",
      "It is famous for being the capital of Jamaica.\n",
      "\n",
      "Mogadishu is in Somalia.\n",
      "It has a population of 2500000.\n",
      "It is famous for being the capital of Somalia.\n"
     ]
    }
   ],
   "source": [
    "cities = { 'Karachi' : {'country' :'Pakistan' , 'pop' : 14900000 , 'fact' : ' being the business hub of Pakistan' },\n",
    "           'Kingston' : {'country' :'Jamaica' , 'pop' : 666041 , 'fact' : ' being the capital of Jamaica' },\n",
    "           'Mogadishu' : {'country' :'Somalia' , 'pop' : 2500000 , 'fact' : ' being the capital of Somalia' }}\n",
    "\n",
    "  \n",
    "    \n",
    "for key  in cities:\n",
    "    print(\"\\n\"+ key + \" is in \" + cities[key]['country'] +\".\"+ \"\\nIt has a population of \" + str(cities[key]['pop']) +\".\"+\n",
    "           \"\\nIt is famous for\" + cities[key]['fact'] +\".\"  )"
   ]
  },
  {
   "cell_type": "markdown",
   "metadata": {},
   "source": [
    "# Question 3"
   ]
  },
  {
   "cell_type": "markdown",
   "metadata": {},
   "source": [
    "A movie theater charges different ticket prices depending on a person’s age. If a person is under the age\n",
    "of 3, the ticket is free; if they are between 3 and 12, the ticket is \\\\$10; and if they are over age 12, the\n",
    "ticket is \\\\$15. Write a loop in which you ask users their age, and then tell them the cost of their movie\n",
    "ticket."
   ]
  },
  {
   "cell_type": "code",
   "execution_count": 3,
   "metadata": {},
   "outputs": [
    {
     "name": "stdout",
     "output_type": "stream",
     "text": [
      "Please enter your age (Enter 999 to quit program) :18\n",
      "Your ticket costs $15.\n",
      "\n",
      "Please enter your age (Enter 999 to quit program) :8\n",
      "Your ticket costs $10.\n",
      "\n",
      "Please enter your age (Enter 999 to quit program) :1\n",
      "Your ticket is Free.\n",
      "\n",
      "Please enter your age (Enter 999 to quit program) :999\n",
      "Terminating\n"
     ]
    }
   ],
   "source": [
    " while True:\n",
    "    age =  int(input(\"Please enter your age (Enter 999 to quit program) :\") )\n",
    "    if age == 999:\n",
    "        print (\"Terminating\")\n",
    "        break\n",
    "    if age <   3  :\n",
    "         print(\"Your ticket is Free.\\n\")\n",
    "    elif   age < 13  :\n",
    "         print(\"Your ticket costs $10.\\n\")\n",
    "    elif age  >  12  :\n",
    "         print(\"Your ticket costs $15.\\n\")\n",
    "    \n",
    " "
   ]
  },
  {
   "cell_type": "markdown",
   "metadata": {},
   "source": [
    "# Question 4"
   ]
  },
  {
   "cell_type": "markdown",
   "metadata": {},
   "source": [
    "Write a function called favorite_book() that accepts one parameter, title. The function should print a\n",
    "message, such as One of my favorite books is Alice in Wonderland. Call the function, making sure to\n",
    "include a book title as an argument in the function call."
   ]
  },
  {
   "cell_type": "code",
   "execution_count": 4,
   "metadata": {},
   "outputs": [
    {
     "name": "stdout",
     "output_type": "stream",
     "text": [
      "Mathematics is one of my favorite books.\n"
     ]
    }
   ],
   "source": [
    "def favorite_book(title):\n",
    "     print(title + \" is one of my favorite books.\")\n",
    "favorite_book('Mathematics')"
   ]
  },
  {
   "cell_type": "markdown",
   "metadata": {},
   "source": [
    "# Question 5"
   ]
  },
  {
   "cell_type": "markdown",
   "metadata": {},
   "source": [
    "Guess the number game\n",
    "\n",
    "\n",
    "Write a program which randomly generate a number between 1 to 30 and ask the user in input field to\n",
    "guess the correct number. Give three chances to user guess the number and also give hint to user if\n",
    "hidden number is greater or smaller than the number he given to input field."
   ]
  },
  {
   "cell_type": "code",
   "execution_count": 6,
   "metadata": {},
   "outputs": [
    {
     "name": "stdout",
     "output_type": "stream",
     "text": [
      "\n",
      "You have 3 tries, Guess a number that's between 1 and 20: 10\n",
      "Try again, The Number is lower than your guess.\n",
      "\n",
      "You have 2 tries, Guess a number that's between 1 and 20: 5\n",
      "\n",
      "\n",
      "That's right!\n"
     ]
    }
   ],
   "source": [
    "import random\n",
    "\n",
    "num = random.randint(1,20) \n",
    " \n",
    "for x in range(0,3 ):\n",
    "    guess = int(input(\"\\nYou have \" + str(3-x) +\" tries, Guess a number that's between 1 and 20: \"))\n",
    "\n",
    "\n",
    "    if num > guess:\n",
    "        print(\"Try again, The Number is higher than your guess.\")\n",
    "    if num < guess:\n",
    "        print(\"Try again, The Number is lower than your guess.\")\n",
    "    if num == guess:\n",
    "        break\n",
    "            \n",
    "            \n",
    "if num == guess:\n",
    "    print(\"\\n\\nThat's right!\")\n",
    "if num != guess:\n",
    "    print('\\n\\nThe number was ' + str(num) )"
   ]
  },
  {
   "cell_type": "code",
   "execution_count": null,
   "metadata": {},
   "outputs": [],
   "source": []
  },
  {
   "cell_type": "code",
   "execution_count": null,
   "metadata": {},
   "outputs": [],
   "source": []
  }
 ],
 "metadata": {
  "kernelspec": {
   "display_name": "Python 3",
   "language": "python",
   "name": "python3"
  },
  "language_info": {
   "codemirror_mode": {
    "name": "ipython",
    "version": 3
   },
   "file_extension": ".py",
   "mimetype": "text/x-python",
   "name": "python",
   "nbconvert_exporter": "python",
   "pygments_lexer": "ipython3",
   "version": "3.7.3"
  }
 },
 "nbformat": 4,
 "nbformat_minor": 2
}
