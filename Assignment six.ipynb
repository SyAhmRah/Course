{
 "cells": [
  {
   "cell_type": "markdown",
   "metadata": {},
   "source": [
    "# What is OOP?\n",
    "####    Object-oriented programming (or OOP) is a paradigm or pattern of programming whereby the solution to a programming problem is modelled as a collection of collaborating objects. Objects collaborate by sending messages to each other. It is most suitable for managing large, complex problems."
   ]
  },
  {
   "cell_type": "markdown",
   "metadata": {},
   "source": [
    "# Benefits of OOP?\n",
    "#### -OOP offers easy to understand and a clear modular structure for programs.\n",
    "\n",
    "#### -Objects created for Object-Oriented Programs can be reused in other programs. Thus it saves significant development cost.\n",
    "\n",
    "#### -Large programs are difficult to write, but if the development and designing team follow OOP concept then they can better design with minimum flaws.\n",
    "\n",
    "#### -It also enhances program modularity because every object exists independently."
   ]
  },
  {
   "cell_type": "markdown",
   "metadata": {},
   "source": [
    "# Method vs. Function\n",
    "\n",
    "## Function\n",
    "#### A function is a block of code to carry out a specific task, will contain its own scope and is called by name. All functions may contain zero(no) arguments or more than one arguments. On exit, a function can or can not return one or more values.\n",
    "\n",
    "\n",
    "\n",
    "\n",
    "## Method\n",
    "#### A method in python is somewhat similar to a function, except it is associated with object/classes. Methods in python are very similar to functions except for two major differences.\n",
    "\n",
    "#### The method is implicitly used for an object for which it is called. \n",
    "#### The method is accessible to data that is contained within the class.\n",
    "\n"
   ]
  },
  {
   "cell_type": "code",
   "execution_count": null,
   "metadata": {},
   "outputs": [],
   "source": [
    " "
   ]
  },
  {
   "cell_type": "code",
   "execution_count": 33,
   "metadata": {},
   "outputs": [
    {
     "name": "stdout",
     "output_type": "stream",
     "text": [
      "The Manufacturer of Suzuki Mehran 2007 is Suzuki\n",
      "The Transmission of Toyota Corolla 2017 is Automatic\n",
      "The Color of Honda Civic 2018 is White\n",
      "The Transmission of Suzuki Cultus 2005 is Manual\n",
      "The Manufacturer of Honda City 2011 is Honda\n"
     ]
    }
   ],
   "source": [
    "class car():\n",
    "    def __init__(self, maker, model, year, color, transmission):\n",
    "        self.maker = maker\n",
    "        self.model = model\n",
    "        self.year = year\n",
    "        self.color = color\n",
    "        self.transmission = transmission\n",
    "            \n",
    "    def TransmissionType(self):\n",
    "        print (\"The Transmission of \" +self.maker.capitalize() +\" \"+self.model.capitalize() +\" \"+ str(self.year)  +\" is \" + self.transmission) \n",
    "    def CarColor(self):\n",
    "        print (\"The Color of \" +self.maker.capitalize() +\" \"+self.model.capitalize() +\" \"+ str(self.year)   +\" is \"+  self.color)          \n",
    "    def CarMaker(self):\n",
    "        print (\"The Manufacturer of \" +self.maker.capitalize() +\" \"+self.model.capitalize() +\" \"+ str(self.year)   +\" is \"+ self.maker)         \n",
    "        \n",
    "Honda =  car('Honda', 'Civic' , '2018' , 'White' , 'Automatic' )\n",
    "Toyota =  car('Toyota', 'Corolla' , '2017' , 'Black' , 'Automatic' )\n",
    "Suzuki =  car('Suzuki', 'Mehran' , '2007' , 'Green' , 'Manual' )\n",
    "SuzukiC =  car('Suzuki', 'Cultus' , '2005' , 'White' , 'Manual' )\n",
    "HondaC =  car('Honda', 'City' , '2011' , 'Black' , 'Automatic' )\n",
    "\n",
    "\n",
    "\n",
    "\n",
    "\n",
    "Suzuki.CarMaker() \n",
    "Toyota.TransmissionType()\n",
    "Honda.CarColor()\n",
    "SuzukiC.TransmissionType()\n",
    "HondaC.CarMaker()"
   ]
  },
  {
   "cell_type": "code",
   "execution_count": null,
   "metadata": {},
   "outputs": [],
   "source": []
  }
 ],
 "metadata": {
  "kernelspec": {
   "display_name": "Python 3",
   "language": "python",
   "name": "python3"
  },
  "language_info": {
   "codemirror_mode": {
    "name": "ipython",
    "version": 3
   },
   "file_extension": ".py",
   "mimetype": "text/x-python",
   "name": "python",
   "nbconvert_exporter": "python",
   "pygments_lexer": "ipython3",
   "version": "3.7.3"
  }
 },
 "nbformat": 4,
 "nbformat_minor": 2
}
