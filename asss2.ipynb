{
 "cells": [
  {
   "cell_type": "markdown",
   "metadata": {},
   "source": [
    "# Question 1"
   ]
  },
  {
   "cell_type": "code",
   "execution_count": 1,
   "metadata": {},
   "outputs": [
    {
     "name": "stdout",
     "output_type": "stream",
     "text": [
      "---Input your marks(out of 100)---\n",
      "\n",
      "\n",
      "Mathematics:98\n",
      "Physics:94\n",
      "Chemistry:85\n",
      "English:71\n",
      "Biology:70\n",
      "\n",
      "\n",
      "\n",
      "You scored 98.0 out of 100 in Mathematics\n",
      "\n",
      "You scored 94.0 out of 100 in Physics\n",
      "\n",
      "You scored 85.0 out of 100 in Chemistry\n",
      "\n",
      "You scored 71.0 out of 100 in English\n",
      "\n",
      "You scored 70.0 out of 100 in Biology\n",
      "\n",
      "You scored 98.0 out of 100 in Mathematics\n",
      "\n",
      "\n",
      "\n",
      "Congratualtions! Your percentage is 83.6%\n"
     ]
    }
   ],
   "source": [
    "print(\"---Input your marks(out of 100)---\\n\\n\")\n",
    "\n",
    "\n",
    "mth = float(input(\"Mathematics:\"))\n",
    "phy = float(input(\"Physics:\"))\n",
    "che = float(input(\"Chemistry:\"))\n",
    "eng = float(input(\"English:\"))\n",
    "bio = float(input(\"Biology:\"))\n",
    "\n",
    "total = mth + phy +che+eng+bio \n",
    "\n",
    "print(\"\\n\\n\\nYou scored \" +str(mth) +  \" out of 100 in Mathematics\\n\")\n",
    "print(\"You scored \" +str(phy) +  \" out of 100 in Physics\\n\")\n",
    "print(\"You scored \" +str(che) +  \" out of 100 in Chemistry\\n\")\n",
    "print(\"You scored \" +str(eng) +  \" out of 100 in English\\n\")\n",
    "print(\"You scored \" +str(bio) +  \" out of 100 in Biology\\n\")\n",
    "print(\"You scored \" +str(mth) +  \" out of 100 in Mathematics\\n\\n\\n\")\n",
    "\n",
    "print(\"Congratualtions! Your percentage is \" +str(total/5)+ \"%\")"
   ]
  },
  {
   "cell_type": "markdown",
   "metadata": {},
   "source": [
    "# Question 2"
   ]
  },
  {
   "cell_type": "code",
   "execution_count": 2,
   "metadata": {},
   "outputs": [
    {
     "name": "stdout",
     "output_type": "stream",
     "text": [
      "---Input any number to check if it is even or odd---\n",
      "\n",
      "\n",
      "Number:55\n",
      "Odd\n"
     ]
    }
   ],
   "source": [
    "print(\"---Input any number to check if it is even or odd---\\n\\n\")\n",
    "\n",
    "\n",
    "num = float(input(\"Number:\"))\n",
    "if num%2 == 0 :\n",
    "    print(\"Even\")\n",
    "else:\n",
    "    print(\"Odd\")"
   ]
  },
  {
   "cell_type": "markdown",
   "metadata": {},
   "source": [
    "# Question 3"
   ]
  },
  {
   "cell_type": "code",
   "execution_count": 3,
   "metadata": {},
   "outputs": [
    {
     "name": "stdout",
     "output_type": "stream",
     "text": [
      "Length of the list is 15\n"
     ]
    }
   ],
   "source": [
    "LST = [2,3,4,2,3,4,2,3,4,2,3,4,2,3,4]\n",
    "print(\"Length of the list is \" + str(len(LST)))"
   ]
  },
  {
   "cell_type": "markdown",
   "metadata": {},
   "source": [
    "# Question 4"
   ]
  },
  {
   "cell_type": "code",
   "execution_count": 4,
   "metadata": {},
   "outputs": [
    {
     "name": "stdout",
     "output_type": "stream",
     "text": [
      "Total of the list is 45\n"
     ]
    }
   ],
   "source": [
    "LST = [2,3,4,2,3,4,2,3,4,2,3,4,2,3,4]\n",
    "print(\"Total of the list is \" + str(sum(LST)))"
   ]
  },
  {
   "cell_type": "markdown",
   "metadata": {},
   "source": [
    "# Question 5"
   ]
  },
  {
   "cell_type": "code",
   "execution_count": 5,
   "metadata": {},
   "outputs": [
    {
     "name": "stdout",
     "output_type": "stream",
     "text": [
      "Largest number of the list is 88\n"
     ]
    }
   ],
   "source": [
    "LST = [9,8,7,6,5,4,3,5,7,8,6,2,77,4,1,88,0,3]\n",
    "print(\"Largest number of the list is \" + str(max(LST)))"
   ]
  },
  {
   "cell_type": "markdown",
   "metadata": {},
   "source": [
    "# Question 6"
   ]
  },
  {
   "cell_type": "code",
   "execution_count": 6,
   "metadata": {},
   "outputs": [
    {
     "name": "stdout",
     "output_type": "stream",
     "text": [
      "5\n",
      "4\n",
      "3\n",
      "5\n",
      "2\n",
      "4\n",
      "1\n",
      "0\n",
      "3\n"
     ]
    }
   ],
   "source": [
    "LST = [9,8,7,6,5,4,3,5,7,8,6,2,77,4,1,88,0,3]\n",
    "for x in LST:\n",
    "    if x <= 5:\n",
    "        print(x)\n",
    "    \n"
   ]
  },
  {
   "cell_type": "code",
   "execution_count": null,
   "metadata": {},
   "outputs": [],
   "source": []
  }
 ],
 "metadata": {
  "kernelspec": {
   "display_name": "Python 3",
   "language": "python",
   "name": "python3"
  },
  "language_info": {
   "codemirror_mode": {
    "name": "ipython",
    "version": 3
   },
   "file_extension": ".py",
   "mimetype": "text/x-python",
   "name": "python",
   "nbconvert_exporter": "python",
   "pygments_lexer": "ipython3",
   "version": "3.7.3"
  }
 },
 "nbformat": 4,
 "nbformat_minor": 2
}
