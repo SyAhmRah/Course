{
 "cells": [
  {
   "cell_type": "markdown",
   "metadata": {},
   "source": [
    "# Question 1"
   ]
  },
  {
   "cell_type": "code",
   "execution_count": 1,
   "metadata": {},
   "outputs": [
    {
     "name": "stdout",
     "output_type": "stream",
     "text": [
      "Input a number to calculate the factiorial : 5\n",
      "The factorial of 5 is 120\n"
     ]
    }
   ],
   "source": [
    "def factor(num):\n",
    "    if num == 0:\n",
    "        return 1\n",
    "    else:\n",
    "        return num * factor(num-1)\n",
    "    \n",
    "    \n",
    "inpt = input(\"Input a number to calculate the factiorial : \") \n",
    "num = int(inpt)\n",
    "\n",
    "print(\"The factorial of \" + str(num) + \" is \" + str(factor(num)))"
   ]
  },
  {
   "cell_type": "markdown",
   "metadata": {},
   "source": [
    "# Question 2"
   ]
  },
  {
   "cell_type": "code",
   "execution_count": 2,
   "metadata": {},
   "outputs": [
    {
     "name": "stdout",
     "output_type": "stream",
     "text": [
      "Enter a string to count UPPER and lower case letters:abc ABCABC\n",
      "Number of UPPER case letters:6\n",
      "Number of lower case letters:3\n"
     ]
    }
   ],
   "source": [
    "\n",
    "def fnctn(upperlower):\n",
    "    \n",
    "    upper =0\n",
    "    lower =0\n",
    "    \n",
    "    for letter in upperlower:\n",
    "        if letter.islower():\n",
    "            lower += 1\n",
    "    for letter in upperlower:        \n",
    "        if letter.isupper() :\n",
    "            upper += 1\n",
    "    \n",
    "    print (\"Number of UPPER case letters:\" + str(upper))\n",
    "    print (\"Number of lower case letters:\" + str(lower))\n",
    "    \n",
    "strin=str(input(\"Enter a string to count UPPER and lower case letters:\"))\n",
    "\n",
    "fnctn(strin)"
   ]
  },
  {
   "cell_type": "markdown",
   "metadata": {},
   "source": [
    "# Question 3 "
   ]
  },
  {
   "cell_type": "code",
   "execution_count": 3,
   "metadata": {},
   "outputs": [
    {
     "name": "stdout",
     "output_type": "stream",
     "text": [
      "2\n",
      "4\n",
      "32\n",
      "8\n",
      "90\n"
     ]
    }
   ],
   "source": [
    "lst = [ 2,3,4,32,3,8,9,99,90]\n",
    "\n",
    "def fncc(lst):\n",
    "    for i in lst:\n",
    "        if i%2 == 0:\n",
    "            print(i)\n",
    "\n",
    "fncc(lst)"
   ]
  },
  {
   "cell_type": "markdown",
   "metadata": {},
   "source": [
    "# Question 4\n",
    "\n"
   ]
  },
  {
   "cell_type": "code",
   "execution_count": 4,
   "metadata": {},
   "outputs": [
    {
     "name": "stdout",
     "output_type": "stream",
     "text": [
      "Enter a word to check if it is a palindrome: Rotator\n",
      "The string you entered Rotator is a Palindrome\n"
     ]
    }
   ],
   "source": [
    "def fnc ():\n",
    "    stroriginal=input(\"Enter a word to check if it is a palindrome: \") \n",
    "    str = stroriginal.lower()\n",
    "    revstr = str[::-1] \n",
    "    if str == revstr :\n",
    "        print (\"The string you entered \" + stroriginal + \" is a Palindrome\" )\n",
    "    else:\n",
    "        print (\"The string you entered \" + stroriginal + \" is not a Palindrome\" )\n",
    "       \n",
    "fnc()    "
   ]
  },
  {
   "cell_type": "markdown",
   "metadata": {},
   "source": [
    "# Question 5"
   ]
  },
  {
   "cell_type": "code",
   "execution_count": 5,
   "metadata": {},
   "outputs": [
    {
     "name": "stdout",
     "output_type": "stream",
     "text": [
      "Enter number to check if it is prime or not: 11\n",
      "11 is a Prime Number\n"
     ]
    }
   ],
   "source": [
    "def test_prime(n):\n",
    "    if (n==1):\n",
    "       print(\"1 is not a Prime Number\")\n",
    "    elif (n==2):\n",
    "        print(\"2 is a Prime Number\")\n",
    "    for x in range(2,n):\n",
    "            if(n % x==0):\n",
    "                return print(str(n) +\" is not a Prime Number\")\n",
    "    for x in range(2,n):\n",
    "            if(n % x==1):    \n",
    "                return print(str(n) +\" is a Prime Number\")\n",
    "        \n",
    "inpt=input (\"Enter number to check if it is prime or not: \")\n",
    "test_prime(int(inpt) )"
   ]
  },
  {
   "cell_type": "markdown",
   "metadata": {},
   "source": [
    "# Question 6"
   ]
  },
  {
   "cell_type": "code",
   "execution_count": 6,
   "metadata": {},
   "outputs": [
    {
     "name": "stdout",
     "output_type": "stream",
     "text": [
      "You bought: Eggs\n",
      "You bought: Bread\n",
      "You bought: Potatoes\n",
      "You bought: Ice Cream\n",
      "You bought: Milk\n"
     ]
    }
   ],
   "source": [
    "def items(*names):\n",
    "    for item in names:\n",
    "        print(\"You bought: \" + item)\n",
    "\n",
    "    \n",
    "items(\"Eggs\",\"Bread\",\"Potatoes\",\"Ice Cream\",\"Milk\")"
   ]
  },
  {
   "cell_type": "code",
   "execution_count": null,
   "metadata": {},
   "outputs": [],
   "source": []
  }
 ],
 "metadata": {
  "kernelspec": {
   "display_name": "Python 3",
   "language": "python",
   "name": "python3"
  },
  "language_info": {
   "codemirror_mode": {
    "name": "ipython",
    "version": 3
   },
   "file_extension": ".py",
   "mimetype": "text/x-python",
   "name": "python",
   "nbconvert_exporter": "python",
   "pygments_lexer": "ipython3",
   "version": "3.7.3"
  }
 },
 "nbformat": 4,
 "nbformat_minor": 2
}
